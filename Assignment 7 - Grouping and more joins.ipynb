{
 "cells": [
  {
   "cell_type": "code",
   "execution_count": 1,
   "metadata": {},
   "outputs": [],
   "source": [
    "%load_ext sql"
   ]
  },
  {
   "cell_type": "code",
   "execution_count": 2,
   "metadata": {},
   "outputs": [
    {
     "data": {
      "text/plain": [
       "'Connected: appdev@appdev'"
      ]
     },
     "execution_count": 2,
     "metadata": {},
     "output_type": "execute_result"
    }
   ],
   "source": [
    "%sql postgresql://appdev@data/appdev"
   ]
  },
  {
   "cell_type": "markdown",
   "metadata": {},
   "source": [
    "### 1. \n",
    "Using a single join and a grouping, write a query that allows you to find the forename, surname, driverid and the total number of wins for each driver in the f1db schema."
   ]
  },
  {
   "cell_type": "code",
   "execution_count": 7,
   "metadata": {},
   "outputs": [
    {
     "name": "stdout",
     "output_type": "stream",
     "text": [
      "10 rows affected.\n"
     ]
    },
    {
     "data": {
      "text/html": [
       "<table>\n",
       "    <tr>\n",
       "        <th>forename</th>\n",
       "        <th>surname</th>\n",
       "        <th>driverid</th>\n",
       "        <th>wins</th>\n",
       "    </tr>\n",
       "    <tr>\n",
       "        <td>Michael</td>\n",
       "        <td>Schumacher</td>\n",
       "        <td>30</td>\n",
       "        <td>91</td>\n",
       "    </tr>\n",
       "    <tr>\n",
       "        <td>Lewis</td>\n",
       "        <td>Hamilton</td>\n",
       "        <td>1</td>\n",
       "        <td>60</td>\n",
       "    </tr>\n",
       "    <tr>\n",
       "        <td>Alain</td>\n",
       "        <td>Prost</td>\n",
       "        <td>117</td>\n",
       "        <td>51</td>\n",
       "    </tr>\n",
       "    <tr>\n",
       "        <td>Sebastian</td>\n",
       "        <td>Vettel</td>\n",
       "        <td>20</td>\n",
       "        <td>46</td>\n",
       "    </tr>\n",
       "    <tr>\n",
       "        <td>Ayrton</td>\n",
       "        <td>Senna</td>\n",
       "        <td>102</td>\n",
       "        <td>41</td>\n",
       "    </tr>\n",
       "    <tr>\n",
       "        <td>Fernando</td>\n",
       "        <td>Alonso</td>\n",
       "        <td>4</td>\n",
       "        <td>32</td>\n",
       "    </tr>\n",
       "    <tr>\n",
       "        <td>Nigel</td>\n",
       "        <td>Mansell</td>\n",
       "        <td>95</td>\n",
       "        <td>31</td>\n",
       "    </tr>\n",
       "    <tr>\n",
       "        <td>Jackie</td>\n",
       "        <td>Stewart</td>\n",
       "        <td>328</td>\n",
       "        <td>27</td>\n",
       "    </tr>\n",
       "    <tr>\n",
       "        <td>Niki</td>\n",
       "        <td>Lauda</td>\n",
       "        <td>182</td>\n",
       "        <td>25</td>\n",
       "    </tr>\n",
       "    <tr>\n",
       "        <td>Jim</td>\n",
       "        <td>Clark</td>\n",
       "        <td>373</td>\n",
       "        <td>25</td>\n",
       "    </tr>\n",
       "</table>"
      ],
      "text/plain": [
       "[('Michael', 'Schumacher', 30, 91),\n",
       " ('Lewis', 'Hamilton', 1, 60),\n",
       " ('Alain', 'Prost', 117, 51),\n",
       " ('Sebastian', 'Vettel', 20, 46),\n",
       " ('Ayrton', 'Senna', 102, 41),\n",
       " ('Fernando', 'Alonso', 4, 32),\n",
       " ('Nigel', 'Mansell', 95, 31),\n",
       " ('Jackie', 'Stewart', 328, 27),\n",
       " ('Niki', 'Lauda', 182, 25),\n",
       " ('Jim', 'Clark', 373, 25)]"
      ]
     },
     "execution_count": 7,
     "metadata": {},
     "output_type": "execute_result"
    }
   ],
   "source": [
    "%%sql SELECT forename, surname, drivers.driverid, COUNT(*) as wins FROM drivers\n",
    "JOIN results ON drivers.driverid = results.driverid\n",
    "WHERE position = 1\n",
    "GROUP BY drivers.driverid, forename, surname\n",
    "ORDER BY wins DESC LIMIT 10;"
   ]
  },
  {
   "cell_type": "markdown",
   "metadata": {},
   "source": [
    "### 2. \n",
    "Write a query that joins the tables results, constructors and drivers to show the amount of times a driver has driven a car from a constructor. In other words how many times one driver (for instance Schumacher) has driven a constructor (for instance Mercedes). Your table should have three fields: drivers.driverref, constructors.name and count(*) (showing the number of times the driver has driven the constructor).\n",
    "\n",
    "Hint: You can group on more than one value"
   ]
  },
  {
   "cell_type": "code",
   "execution_count": 8,
   "metadata": {},
   "outputs": [
    {
     "name": "stdout",
     "output_type": "stream",
     "text": [
      "10 rows affected.\n"
     ]
    },
    {
     "data": {
      "text/html": [
       "<table>\n",
       "    <tr>\n",
       "        <th>driverref</th>\n",
       "        <th>name</th>\n",
       "        <th>count</th>\n",
       "    </tr>\n",
       "    <tr>\n",
       "        <td>michael_schumacher</td>\n",
       "        <td>Ferrari</td>\n",
       "        <td>181</td>\n",
       "    </tr>\n",
       "    <tr>\n",
       "        <td>coulthard</td>\n",
       "        <td>McLaren</td>\n",
       "        <td>150</td>\n",
       "    </tr>\n",
       "    <tr>\n",
       "        <td>massa</td>\n",
       "        <td>Ferrari</td>\n",
       "        <td>140</td>\n",
       "    </tr>\n",
       "    <tr>\n",
       "        <td>button</td>\n",
       "        <td>McLaren</td>\n",
       "        <td>137</td>\n",
       "    </tr>\n",
       "    <tr>\n",
       "        <td>rosberg</td>\n",
       "        <td>Mercedes</td>\n",
       "        <td>136</td>\n",
       "    </tr>\n",
       "    <tr>\n",
       "        <td>hakkinen</td>\n",
       "        <td>McLaren</td>\n",
       "        <td>133</td>\n",
       "    </tr>\n",
       "    <tr>\n",
       "        <td>laffite</td>\n",
       "        <td>Ligier</td>\n",
       "        <td>132</td>\n",
       "    </tr>\n",
       "    <tr>\n",
       "        <td>webber</td>\n",
       "        <td>Red Bull</td>\n",
       "        <td>129</td>\n",
       "    </tr>\n",
       "    <tr>\n",
       "        <td>raikkonen</td>\n",
       "        <td>Ferrari</td>\n",
       "        <td>126</td>\n",
       "    </tr>\n",
       "    <tr>\n",
       "        <td>vettel</td>\n",
       "        <td>Red Bull</td>\n",
       "        <td>113</td>\n",
       "    </tr>\n",
       "</table>"
      ],
      "text/plain": [
       "[('michael_schumacher', 'Ferrari', 181),\n",
       " ('coulthard', 'McLaren', 150),\n",
       " ('massa', 'Ferrari', 140),\n",
       " ('button', 'McLaren', 137),\n",
       " ('rosberg', 'Mercedes', 136),\n",
       " ('hakkinen', 'McLaren', 133),\n",
       " ('laffite', 'Ligier', 132),\n",
       " ('webber', 'Red Bull', 129),\n",
       " ('raikkonen', 'Ferrari', 126),\n",
       " ('vettel', 'Red Bull', 113)]"
      ]
     },
     "execution_count": 8,
     "metadata": {},
     "output_type": "execute_result"
    }
   ],
   "source": [
    "%%sql SELECT driverref, name, COUNT(*) FROM results\n",
    "JOIN drivers USING(driverid)\n",
    "JOIN constructors USING(constructorid)\n",
    "GROUP BY driverref, name \n",
    "ORDER BY COUNT DESC LIMIT 10;"
   ]
  },
  {
   "cell_type": "markdown",
   "metadata": {},
   "source": [
    "### 3.\n",
    "Now we have found the most driven vehicles even for those who didn't finish the race. Extend the query from 2 by removing all tuples from the result where the status is not \"Finished\"."
   ]
  },
  {
   "cell_type": "code",
   "execution_count": 9,
   "metadata": {},
   "outputs": [
    {
     "name": "stdout",
     "output_type": "stream",
     "text": [
      "10 rows affected.\n"
     ]
    },
    {
     "data": {
      "text/html": [
       "<table>\n",
       "    <tr>\n",
       "        <th>driverref</th>\n",
       "        <th>name</th>\n",
       "        <th>count</th>\n",
       "    </tr>\n",
       "    <tr>\n",
       "        <td>michael_schumacher</td>\n",
       "        <td>Ferrari</td>\n",
       "        <td>141</td>\n",
       "    </tr>\n",
       "    <tr>\n",
       "        <td>massa</td>\n",
       "        <td>Ferrari</td>\n",
       "        <td>112</td>\n",
       "    </tr>\n",
       "    <tr>\n",
       "        <td>rosberg</td>\n",
       "        <td>Mercedes</td>\n",
       "        <td>109</td>\n",
       "    </tr>\n",
       "    <tr>\n",
       "        <td>webber</td>\n",
       "        <td>Red Bull</td>\n",
       "        <td>100</td>\n",
       "    </tr>\n",
       "    <tr>\n",
       "        <td>vettel</td>\n",
       "        <td>Red Bull</td>\n",
       "        <td>97</td>\n",
       "    </tr>\n",
       "    <tr>\n",
       "        <td>raikkonen</td>\n",
       "        <td>Ferrari</td>\n",
       "        <td>92</td>\n",
       "    </tr>\n",
       "    <tr>\n",
       "        <td>alonso</td>\n",
       "        <td>Ferrari</td>\n",
       "        <td>87</td>\n",
       "    </tr>\n",
       "    <tr>\n",
       "        <td>button</td>\n",
       "        <td>McLaren</td>\n",
       "        <td>87</td>\n",
       "    </tr>\n",
       "    <tr>\n",
       "        <td>coulthard</td>\n",
       "        <td>McLaren</td>\n",
       "        <td>85</td>\n",
       "    </tr>\n",
       "    <tr>\n",
       "        <td>hamilton</td>\n",
       "        <td>Mercedes</td>\n",
       "        <td>85</td>\n",
       "    </tr>\n",
       "</table>"
      ],
      "text/plain": [
       "[('michael_schumacher', 'Ferrari', 141),\n",
       " ('massa', 'Ferrari', 112),\n",
       " ('rosberg', 'Mercedes', 109),\n",
       " ('webber', 'Red Bull', 100),\n",
       " ('vettel', 'Red Bull', 97),\n",
       " ('raikkonen', 'Ferrari', 92),\n",
       " ('alonso', 'Ferrari', 87),\n",
       " ('button', 'McLaren', 87),\n",
       " ('coulthard', 'McLaren', 85),\n",
       " ('hamilton', 'Mercedes', 85)]"
      ]
     },
     "execution_count": 9,
     "metadata": {},
     "output_type": "execute_result"
    }
   ],
   "source": [
    "%%sql SELECT driverref, name, COUNT(*) FROM results\n",
    "JOIN drivers USING(driverid)\n",
    "JOIN constructors USING(constructorid)\n",
    "JOIN status USING(statusid)\n",
    "WHERE status LIKE 'Finished' GROUP BY driverref, name\n",
    "ORDER BY count DESC LIMIT 10;"
   ]
  },
  {
   "cell_type": "markdown",
   "metadata": {},
   "source": [
    "### 4.\n",
    "Create a third (and new) query that finds the amount of milliseconds spent in pitstop (see the pitstops relation) by each unique combinations of driverid and raceid.\n",
    "\n",
    "Hint: use the sum aggregate function to find the total amount of milliseconds\n",
    "Hint: i recommend making this into a view"
   ]
  },
  {
   "cell_type": "code",
   "execution_count": 48,
   "metadata": {},
   "outputs": [
    {
     "name": "stdout",
     "output_type": "stream",
     "text": [
      "Done.\n"
     ]
    },
    {
     "data": {
      "text/plain": [
       "[]"
      ]
     },
     "execution_count": 48,
     "metadata": {},
     "output_type": "execute_result"
    }
   ],
   "source": [
    "%%sql CREATE OR REPLACE VIEW pitstop_time AS\n",
    "SELECT driverid, raceid, SUM(milliseconds) FROM pitstops\n",
    "GROUP BY driverid, raceid;"
   ]
  },
  {
   "cell_type": "markdown",
   "metadata": {},
   "source": [
    "**Selecting all from the view pitstop time created in the query above."
   ]
  },
  {
   "cell_type": "code",
   "execution_count": 49,
   "metadata": {},
   "outputs": [
    {
     "name": "stdout",
     "output_type": "stream",
     "text": [
      "10 rows affected.\n"
     ]
    },
    {
     "data": {
      "text/html": [
       "<table>\n",
       "    <tr>\n",
       "        <th>driverid</th>\n",
       "        <th>raceid</th>\n",
       "        <th>sum</th>\n",
       "    </tr>\n",
       "    <tr>\n",
       "        <td>154</td>\n",
       "        <td>909</td>\n",
       "        <td>18928</td>\n",
       "    </tr>\n",
       "    <tr>\n",
       "        <td>17</td>\n",
       "        <td>877</td>\n",
       "        <td>19066</td>\n",
       "    </tr>\n",
       "    <tr>\n",
       "        <td>4</td>\n",
       "        <td>877</td>\n",
       "        <td>19368</td>\n",
       "    </tr>\n",
       "    <tr>\n",
       "        <td>18</td>\n",
       "        <td>877</td>\n",
       "        <td>19455</td>\n",
       "    </tr>\n",
       "    <tr>\n",
       "        <td>155</td>\n",
       "        <td>877</td>\n",
       "        <td>19529</td>\n",
       "    </tr>\n",
       "    <tr>\n",
       "        <td>13</td>\n",
       "        <td>877</td>\n",
       "        <td>19585</td>\n",
       "    </tr>\n",
       "    <tr>\n",
       "        <td>18</td>\n",
       "        <td>871</td>\n",
       "        <td>19668</td>\n",
       "    </tr>\n",
       "    <tr>\n",
       "        <td>822</td>\n",
       "        <td>955</td>\n",
       "        <td>19732</td>\n",
       "    </tr>\n",
       "    <tr>\n",
       "        <td>10</td>\n",
       "        <td>877</td>\n",
       "        <td>19884</td>\n",
       "    </tr>\n",
       "    <tr>\n",
       "        <td>3</td>\n",
       "        <td>955</td>\n",
       "        <td>20058</td>\n",
       "    </tr>\n",
       "</table>"
      ],
      "text/plain": [
       "[(154, 909, Decimal('18928')),\n",
       " (17, 877, Decimal('19066')),\n",
       " (4, 877, Decimal('19368')),\n",
       " (18, 877, Decimal('19455')),\n",
       " (155, 877, Decimal('19529')),\n",
       " (13, 877, Decimal('19585')),\n",
       " (18, 871, Decimal('19668')),\n",
       " (822, 955, Decimal('19732')),\n",
       " (10, 877, Decimal('19884')),\n",
       " (3, 955, Decimal('20058'))]"
      ]
     },
     "execution_count": 49,
     "metadata": {},
     "output_type": "execute_result"
    }
   ],
   "source": [
    "%sql SELECT * FROM pitstop_time ORDER BY sum LIMIT 10;"
   ]
  },
  {
   "cell_type": "markdown",
   "metadata": {},
   "source": [
    "### 5.\n",
    "Time to put everything together. Use the query for 4 as a join subquery in query 3 (see slides on \"a query within a query\") to find the total amount of pitstop time, for each result in query 3"
   ]
  },
  {
   "cell_type": "code",
   "execution_count": 50,
   "metadata": {},
   "outputs": [
    {
     "name": "stdout",
     "output_type": "stream",
     "text": [
      "Done.\n"
     ]
    },
    {
     "data": {
      "text/plain": [
       "[]"
      ]
     },
     "execution_count": 50,
     "metadata": {},
     "output_type": "execute_result"
    }
   ],
   "source": [
    "%%sql CREATE OR REPLACE VIEW total_pitstop_time AS SELECT driverref, name, SUM(pitstop_time.sum) FROM results\n",
    "JOIN drivers USING(driverid)\n",
    "JOIN constructors USING(constructorid)\n",
    "JOIN status USING(statusid)\n",
    "JOIN pitstop_time USING(driverid, raceid)\n",
    "WHERE status LIKE 'Finished' GROUP BY driverref, name\n",
    "ORDER BY sum ASC;"
   ]
  },
  {
   "cell_type": "markdown",
   "metadata": {},
   "source": [
    "**Selecting all from the view total pitstop time created in the query above."
   ]
  },
  {
   "cell_type": "code",
   "execution_count": 51,
   "metadata": {},
   "outputs": [
    {
     "name": "stdout",
     "output_type": "stream",
     "text": [
      "10 rows affected.\n"
     ]
    },
    {
     "data": {
      "text/html": [
       "<table>\n",
       "    <tr>\n",
       "        <th>driverref</th>\n",
       "        <th>name</th>\n",
       "        <th>sum</th>\n",
       "    </tr>\n",
       "    <tr>\n",
       "        <td>ambrosio</td>\n",
       "        <td>Lotus F1</td>\n",
       "        <td>21962</td>\n",
       "    </tr>\n",
       "    <tr>\n",
       "        <td>rosa</td>\n",
       "        <td>HRT</td>\n",
       "        <td>22272</td>\n",
       "    </tr>\n",
       "    <tr>\n",
       "        <td>kobayashi</td>\n",
       "        <td>Caterham</td>\n",
       "        <td>53752</td>\n",
       "    </tr>\n",
       "    <tr>\n",
       "        <td>rosa</td>\n",
       "        <td>Sauber</td>\n",
       "        <td>54327</td>\n",
       "    </tr>\n",
       "    <tr>\n",
       "        <td>ericsson</td>\n",
       "        <td>Caterham</td>\n",
       "        <td>60508</td>\n",
       "    </tr>\n",
       "    <tr>\n",
       "        <td>kovalainen</td>\n",
       "        <td>Lotus F1</td>\n",
       "        <td>61656</td>\n",
       "    </tr>\n",
       "    <tr>\n",
       "        <td>kovalainen</td>\n",
       "        <td>Lotus</td>\n",
       "        <td>65463</td>\n",
       "    </tr>\n",
       "    <tr>\n",
       "        <td>trulli</td>\n",
       "        <td>Lotus</td>\n",
       "        <td>66025</td>\n",
       "    </tr>\n",
       "    <tr>\n",
       "        <td>glock</td>\n",
       "        <td>Marussia</td>\n",
       "        <td>82876</td>\n",
       "    </tr>\n",
       "    <tr>\n",
       "        <td>rossi</td>\n",
       "        <td>Manor Marussia</td>\n",
       "        <td>90080</td>\n",
       "    </tr>\n",
       "</table>"
      ],
      "text/plain": [
       "[('ambrosio', 'Lotus F1', Decimal('21962')),\n",
       " ('rosa', 'HRT', Decimal('22272')),\n",
       " ('kobayashi', 'Caterham', Decimal('53752')),\n",
       " ('rosa', 'Sauber', Decimal('54327')),\n",
       " ('ericsson', 'Caterham', Decimal('60508')),\n",
       " ('kovalainen', 'Lotus F1', Decimal('61656')),\n",
       " ('kovalainen', 'Lotus', Decimal('65463')),\n",
       " ('trulli', 'Lotus', Decimal('66025')),\n",
       " ('glock', 'Marussia', Decimal('82876')),\n",
       " ('rossi', 'Manor Marussia', Decimal('90080'))]"
      ]
     },
     "execution_count": 51,
     "metadata": {},
     "output_type": "execute_result"
    }
   ],
   "source": [
    "%sql SELECT * FROM total_pitstop_time LIMIT 10;"
   ]
  },
  {
   "cell_type": "markdown",
   "metadata": {},
   "source": [
    "### 6.\n",
    "As a last thing we want to find the driver with the least pistop time. However we want to control for the amount of races (see explanation below), so we need to include one last column: the average pitstop time per race. Your table should be sorted based on the ascending values of that average pitstop time.\n",
    "\n",
    "Explanation: If we just count the pitstop time, we only get the total time he spend in a workshop, no matter how many races he participated in. If a driver participated in 100 races, he would have more pitstop time than a driver participating in one race!\n",
    "Hint: Use the sum function to accumulate the total pistop time and divide that with the amount of races the driver has participated in"
   ]
  },
  {
   "cell_type": "markdown",
   "metadata": {},
   "source": [
    "**This view gets the total pitstop time for each driverreff."
   ]
  },
  {
   "cell_type": "code",
   "execution_count": 52,
   "metadata": {},
   "outputs": [
    {
     "name": "stdout",
     "output_type": "stream",
     "text": [
      "Done.\n"
     ]
    },
    {
     "data": {
      "text/plain": [
       "[]"
      ]
     },
     "execution_count": 52,
     "metadata": {},
     "output_type": "execute_result"
    }
   ],
   "source": [
    "%%sql CREATE OR REPLACE VIEW total_pitstop_time AS\n",
    "SELECT driverref, name, SUM(pitstop_time.sum) FROM results\n",
    "JOIN drivers USING(driverid)\n",
    "JOIN constructors USING(constructorid)\n",
    "JOIN status USING(statusid)\n",
    "JOIN pitstop_time USING(driverid, raceid)\n",
    "GROUP BY driverref, name\n",
    "ORDER BY sum;"
   ]
  },
  {
   "cell_type": "markdown",
   "metadata": {},
   "source": [
    "**This view gets the number of times a driver appers in the results."
   ]
  },
  {
   "cell_type": "code",
   "execution_count": 53,
   "metadata": {},
   "outputs": [
    {
     "name": "stdout",
     "output_type": "stream",
     "text": [
      "Done.\n"
     ]
    },
    {
     "data": {
      "text/plain": [
       "[]"
      ]
     },
     "execution_count": 53,
     "metadata": {},
     "output_type": "execute_result"
    }
   ],
   "source": [
    "%%sql CREATE OR REPLACE VIEW race_count AS\n",
    "SELECT driverref, count(driverid) FROM results\n",
    "JOIN drivers USING(driverid)\n",
    "GROUP BY driverref\n",
    "ORDER BY count;"
   ]
  },
  {
   "cell_type": "code",
   "execution_count": 55,
   "metadata": {},
   "outputs": [
    {
     "name": "stdout",
     "output_type": "stream",
     "text": [
      "1 rows affected.\n"
     ]
    },
    {
     "data": {
      "text/html": [
       "<table>\n",
       "    <tr>\n",
       "        <th>driverref</th>\n",
       "        <th>numberofraces</th>\n",
       "        <th>average</th>\n",
       "    </tr>\n",
       "    <tr>\n",
       "        <td>heidfeld</td>\n",
       "        <td>184</td>\n",
       "        <td>3115.9402173913043478</td>\n",
       "    </tr>\n",
       "</table>"
      ],
      "text/plain": [
       "[('heidfeld', 184, Decimal('3115.9402173913043478'))]"
      ]
     },
     "execution_count": 55,
     "metadata": {},
     "output_type": "execute_result"
    }
   ],
   "source": [
    "%%sql SELECT driverref, racecount.count AS numberofraces, sum(total_pitstop_time.sum/racecount.count) AS average\n",
    "FROM total_pitstop_time\n",
    "JOIN racecount USING(driverref)\n",
    "GROUP BY driverref, racecount.count\n",
    "ORDER BY average LIMIT 1;"
   ]
  }
 ],
 "metadata": {
  "kernelspec": {
   "display_name": "Python 3",
   "language": "python",
   "name": "python3"
  },
  "language_info": {
   "codemirror_mode": {
    "name": "ipython",
    "version": 3
   },
   "file_extension": ".py",
   "mimetype": "text/x-python",
   "name": "python",
   "nbconvert_exporter": "python",
   "pygments_lexer": "ipython3",
   "version": "3.6.3"
  }
 },
 "nbformat": 4,
 "nbformat_minor": 2
}
